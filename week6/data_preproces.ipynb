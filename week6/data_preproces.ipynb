{
 "cells": [
  {
   "cell_type": "code",
   "execution_count": 1,
   "metadata": {},
   "outputs": [
    {
     "name": "stdout",
     "output_type": "stream",
     "text": [
      "Overwriting testutility.py\n"
     ]
    }
   ],
   "source": [
    "%%writefile testutility.py\n",
    "import logging\n",
    "import os\n",
    "import subprocess\n",
    "import yaml\n",
    "import pandas as pd\n",
    "import datetime \n",
    "import gc\n",
    "import re\n",
    "\n",
    "\n",
    "\n",
    "def read_config_file(filepath):\n",
    "    with open(filepath, 'r') as stream:\n",
    "        try:\n",
    "            return yaml.safe_load(stream)\n",
    "        except yaml.YAMLError as exc:\n",
    "            logging.error(exc)\n",
    "\n",
    "\n",
    "def replacer(string, char):\n",
    "    pattern = char + '{2,}'\n",
    "    string = re.sub(pattern, char, string) \n",
    "    return string\n",
    "\n",
    "def col_header_val(df,table_config):\n",
    "    '''\n",
    "    replace whitespaces in the column\n",
    "    and standardized column names\n",
    "    '''\n",
    "    df.columns = df.columns.str.lower()\n",
    "    df.columns = df.columns.str.replace('[^\\w]','_',regex=True)\n",
    "    df.columns = list(map(lambda x: x.strip('_'), list(df.columns)))\n",
    "    df.columns = list(map(lambda x: replacer(x,'_'), list(df.columns)))\n",
    "    expected_col = list(map(lambda x: x.lower(),  table_config['columns']))\n",
    "    expected_col.sort()\n",
    "    df.columns =list(map(lambda x: x.lower(), list(df.columns)))\n",
    "    df = df.reindex(sorted(df.columns), axis=1)\n",
    "    if len(df.columns) == len(expected_col) and list(expected_col)  == list(df.columns):\n",
    "        print(\"column name and column length validation passed\")\n",
    "        return 1\n",
    "    else:\n",
    "        print(\"column name and column length validation failed\")\n",
    "        mismatched_columns_file = list(set(df.columns).difference(expected_col))\n",
    "        print(\"Following File columns are not in the YAML file\",mismatched_columns_file)\n",
    "        missing_YAML_file = list(set(expected_col).difference(df.columns))\n",
    "        print(\"Following YAML columns are not in the file uploaded\",missing_YAML_file)\n",
    "        logging.info(f'df columns: {df.columns}')\n",
    "        logging.info(f'expected columns: {expected_col}')\n",
    "        return 0"
   ]
  },
  {
   "cell_type": "markdown",
   "metadata": {},
   "source": [
    "# Write Yaml file"
   ]
  },
  {
   "cell_type": "code",
   "execution_count": 3,
   "metadata": {},
   "outputs": [
    {
     "name": "stdout",
     "output_type": "stream",
     "text": [
      "Overwriting file.yaml\n"
     ]
    }
   ],
   "source": [
    "%%writefile file.yaml\n",
    "file_type: csv\n",
    "dataset_name: testfile\n",
    "file_name: hospitals\n",
    "table_name: edsurv\n",
    "inbound_delimiter: \",\"\n",
    "outbound_delimiter: \"|\"\n",
    "skip_leading_rows: 1\n",
    "columns: \n",
    "    - cms_certification_num\n",
    "    - name\n",
    "    - address\n",
    "    - city \n",
    "    - state\n",
    "    - zip5\n",
    "    - beds\n",
    "    - phone_number\n",
    "    - homepage_url\n",
    "    - chargemaster_url\n",
    "    - last_edited_by_username"
   ]
  },
  {
   "cell_type": "code",
   "execution_count": 11,
   "metadata": {},
   "outputs": [],
   "source": [
    "# Read config file\n",
    "import testutility as util\n",
    "config_data = util.read_config_file(\"file.yaml\")"
   ]
  },
  {
   "cell_type": "code",
   "execution_count": 12,
   "metadata": {},
   "outputs": [
    {
     "data": {
      "text/plain": [
       "','"
      ]
     },
     "execution_count": 12,
     "metadata": {},
     "output_type": "execute_result"
    }
   ],
   "source": [
    "config_data['inbound_delimiter']"
   ]
  },
  {
   "cell_type": "code",
   "execution_count": 13,
   "metadata": {},
   "outputs": [
    {
     "data": {
      "text/plain": [
       "{'file_type': 'csv',\n",
       " 'dataset_name': 'testfile',\n",
       " 'file_name': 'hospitals',\n",
       " 'table_name': 'edsurv',\n",
       " 'inbound_delimiter': ',',\n",
       " 'outbound_delimiter': '|',\n",
       " 'skip_leading_rows': 1,\n",
       " 'columns': ['cms_certification_num',\n",
       "  'name',\n",
       "  'address',\n",
       "  'city',\n",
       "  'state',\n",
       "  'zip5',\n",
       "  'beds',\n",
       "  'phone_number',\n",
       "  'homepage_url',\n",
       "  'chargemaster_url',\n",
       "  'last_edited_by_username']}"
      ]
     },
     "execution_count": 13,
     "metadata": {},
     "output_type": "execute_result"
    }
   ],
   "source": [
    "#inspecting data of config file\n",
    "config_data"
   ]
  },
  {
   "cell_type": "code",
   "execution_count": 9,
   "metadata": {},
   "outputs": [
    {
     "data": {
      "text/html": [
       "<div>\n",
       "<style scoped>\n",
       "    .dataframe tbody tr th:only-of-type {\n",
       "        vertical-align: middle;\n",
       "    }\n",
       "\n",
       "    .dataframe tbody tr th {\n",
       "        vertical-align: top;\n",
       "    }\n",
       "\n",
       "    .dataframe thead th {\n",
       "        text-align: right;\n",
       "    }\n",
       "</style>\n",
       "<table border=\"1\" class=\"dataframe\">\n",
       "  <thead>\n",
       "    <tr style=\"text-align: right;\">\n",
       "      <th></th>\n",
       "      <th>cms_certification_num</th>\n",
       "      <th>name</th>\n",
       "      <th>address</th>\n",
       "      <th>city</th>\n",
       "      <th>state</th>\n",
       "      <th>zip5</th>\n",
       "      <th>beds</th>\n",
       "      <th>phone_number</th>\n",
       "      <th>homepage_url</th>\n",
       "      <th>chargemaster_url</th>\n",
       "      <th>last_edited_by_username</th>\n",
       "    </tr>\n",
       "  </thead>\n",
       "  <tbody>\n",
       "    <tr>\n",
       "      <th>0</th>\n",
       "      <td>010001</td>\n",
       "      <td>SOUTHEAST HEALTH MEDICAL CENTER</td>\n",
       "      <td>1108 ROSS CLARK CIRCLE</td>\n",
       "      <td>DOTHAN</td>\n",
       "      <td>AL</td>\n",
       "      <td>36301</td>\n",
       "      <td>420</td>\n",
       "      <td>3347938701</td>\n",
       "      <td>https://www.southeasthealth.org/southeast-heal...</td>\n",
       "      <td>https://www.southeasthealth.org/financial-info...</td>\n",
       "      <td>captainstabs</td>\n",
       "    </tr>\n",
       "    <tr>\n",
       "      <th>1</th>\n",
       "      <td>010005</td>\n",
       "      <td>MARSHALL MEDICAL CENTERS SOUTH CAMPUS</td>\n",
       "      <td>2505 U S HIGHWAY 431 NORTH</td>\n",
       "      <td>BOAZ</td>\n",
       "      <td>AL</td>\n",
       "      <td>35957</td>\n",
       "      <td>240</td>\n",
       "      <td>2565938310</td>\n",
       "      <td>https://www.marshallmedical.org/</td>\n",
       "      <td>https://www.marshallmedical.org/patients-visit...</td>\n",
       "      <td>captainstabs</td>\n",
       "    </tr>\n",
       "    <tr>\n",
       "      <th>2</th>\n",
       "      <td>010006</td>\n",
       "      <td>NORTH ALABAMA MEDICAL CENTER</td>\n",
       "      <td>1701 VETERANS DRIVE</td>\n",
       "      <td>FLORENCE</td>\n",
       "      <td>AL</td>\n",
       "      <td>35630</td>\n",
       "      <td>338</td>\n",
       "      <td>2567688400</td>\n",
       "      <td>NaN</td>\n",
       "      <td>NaN</td>\n",
       "      <td>NaN</td>\n",
       "    </tr>\n",
       "    <tr>\n",
       "      <th>3</th>\n",
       "      <td>010007</td>\n",
       "      <td>MIZELL MEMORIAL HOSPITAL</td>\n",
       "      <td>702 N MAIN ST</td>\n",
       "      <td>OPP</td>\n",
       "      <td>AL</td>\n",
       "      <td>36467</td>\n",
       "      <td>99</td>\n",
       "      <td>3344933541</td>\n",
       "      <td>NaN</td>\n",
       "      <td>NaN</td>\n",
       "      <td>NaN</td>\n",
       "    </tr>\n",
       "    <tr>\n",
       "      <th>4</th>\n",
       "      <td>010008</td>\n",
       "      <td>CRENSHAW COMMUNITY HOSPITAL</td>\n",
       "      <td>101 HOSPITAL CIRCLE</td>\n",
       "      <td>LUVERNE</td>\n",
       "      <td>AL</td>\n",
       "      <td>36049</td>\n",
       "      <td>65</td>\n",
       "      <td>3343353374</td>\n",
       "      <td>NaN</td>\n",
       "      <td>NaN</td>\n",
       "      <td>NaN</td>\n",
       "    </tr>\n",
       "  </tbody>\n",
       "</table>\n",
       "</div>"
      ],
      "text/plain": [
       "  cms_certification_num                                   name  \\\n",
       "0                010001        SOUTHEAST HEALTH MEDICAL CENTER   \n",
       "1                010005  MARSHALL MEDICAL CENTERS SOUTH CAMPUS   \n",
       "2                010006           NORTH ALABAMA MEDICAL CENTER   \n",
       "3                010007               MIZELL MEMORIAL HOSPITAL   \n",
       "4                010008            CRENSHAW COMMUNITY HOSPITAL   \n",
       "\n",
       "                      address      city state   zip5  beds  phone_number  \\\n",
       "0      1108 ROSS CLARK CIRCLE    DOTHAN    AL  36301   420    3347938701   \n",
       "1  2505 U S HIGHWAY 431 NORTH      BOAZ    AL  35957   240    2565938310   \n",
       "2         1701 VETERANS DRIVE  FLORENCE    AL  35630   338    2567688400   \n",
       "3               702 N MAIN ST       OPP    AL  36467    99    3344933541   \n",
       "4         101 HOSPITAL CIRCLE   LUVERNE    AL  36049    65    3343353374   \n",
       "\n",
       "                                        homepage_url  \\\n",
       "0  https://www.southeasthealth.org/southeast-heal...   \n",
       "1                   https://www.marshallmedical.org/   \n",
       "2                                                NaN   \n",
       "3                                                NaN   \n",
       "4                                                NaN   \n",
       "\n",
       "                                    chargemaster_url last_edited_by_username  \n",
       "0  https://www.southeasthealth.org/financial-info...            captainstabs  \n",
       "1  https://www.marshallmedical.org/patients-visit...            captainstabs  \n",
       "2                                                NaN                     NaN  \n",
       "3                                                NaN                     NaN  \n",
       "4                                                NaN                     NaN  "
      ]
     },
     "execution_count": 9,
     "metadata": {},
     "output_type": "execute_result"
    }
   ],
   "source": [
    "import pandas as pd\n",
    "df_hospital = pd.read_csv(\"archive/hospitals.csv\")\n",
    "df_hospital.head()"
   ]
  },
  {
   "cell_type": "code",
   "execution_count": 14,
   "metadata": {},
   "outputs": [
    {
     "name": "stdout",
     "output_type": "stream",
     "text": [
      "columns of files are: Index(['cms_certification_num', 'name', 'address', 'city', 'state', 'zip5',\n",
      "       'beds', 'phone_number', 'homepage_url', 'chargemaster_url',\n",
      "       'last_edited_by_username'],\n",
      "      dtype='object')\n",
      "columns of YAML are: ['cms_certification_num', 'name', 'address', 'city', 'state', 'zip5', 'beds', 'phone_number', 'homepage_url', 'chargemaster_url', 'last_edited_by_username']\n"
     ]
    }
   ],
   "source": [
    "print(\"columns of files are:\" ,  df_hospital.columns)\n",
    "print(\"columns of YAML are:\" ,config_data['columns'])"
   ]
  },
  {
   "cell_type": "code",
   "execution_count": 15,
   "metadata": {},
   "outputs": [
    {
     "name": "stdout",
     "output_type": "stream",
     "text": [
      "<class 'pandas.core.frame.DataFrame'>\n",
      "RangeIndex: 5992 entries, 0 to 5991\n",
      "Data columns (total 11 columns):\n",
      " #   Column                   Non-Null Count  Dtype \n",
      "---  ------                   --------------  ----- \n",
      " 0   cms_certification_num    5992 non-null   object\n",
      " 1   name                     5992 non-null   object\n",
      " 2   address                  5992 non-null   object\n",
      " 3   city                     5992 non-null   object\n",
      " 4   state                    5992 non-null   object\n",
      " 5   zip5                     5992 non-null   int64 \n",
      " 6   beds                     5992 non-null   int64 \n",
      " 7   phone_number             5992 non-null   int64 \n",
      " 8   homepage_url             1799 non-null   object\n",
      " 9   chargemaster_url         1799 non-null   object\n",
      " 10  last_edited_by_username  1799 non-null   object\n",
      "dtypes: int64(3), object(8)\n",
      "memory usage: 515.1+ KB\n"
     ]
    }
   ],
   "source": [
    "df_hospital.info()\n"
   ]
  },
  {
   "cell_type": "code",
   "execution_count": 16,
   "metadata": {},
   "outputs": [
    {
     "data": {
      "text/html": [
       "<div>\n",
       "<style scoped>\n",
       "    .dataframe tbody tr th:only-of-type {\n",
       "        vertical-align: middle;\n",
       "    }\n",
       "\n",
       "    .dataframe tbody tr th {\n",
       "        vertical-align: top;\n",
       "    }\n",
       "\n",
       "    .dataframe thead th {\n",
       "        text-align: right;\n",
       "    }\n",
       "</style>\n",
       "<table border=\"1\" class=\"dataframe\">\n",
       "  <thead>\n",
       "    <tr style=\"text-align: right;\">\n",
       "      <th></th>\n",
       "      <th>zip5</th>\n",
       "      <th>beds</th>\n",
       "      <th>phone_number</th>\n",
       "    </tr>\n",
       "  </thead>\n",
       "  <tbody>\n",
       "    <tr>\n",
       "      <th>count</th>\n",
       "      <td>5992.000000</td>\n",
       "      <td>5992.000000</td>\n",
       "      <td>5.992000e+03</td>\n",
       "    </tr>\n",
       "    <tr>\n",
       "      <th>mean</th>\n",
       "      <td>53785.892857</td>\n",
       "      <td>162.129172</td>\n",
       "      <td>5.859922e+09</td>\n",
       "    </tr>\n",
       "    <tr>\n",
       "      <th>std</th>\n",
       "      <td>26990.331200</td>\n",
       "      <td>210.167654</td>\n",
       "      <td>2.362392e+09</td>\n",
       "    </tr>\n",
       "    <tr>\n",
       "      <th>min</th>\n",
       "      <td>603.000000</td>\n",
       "      <td>2.000000</td>\n",
       "      <td>9.369338e+08</td>\n",
       "    </tr>\n",
       "    <tr>\n",
       "      <th>25%</th>\n",
       "      <td>32610.000000</td>\n",
       "      <td>26.000000</td>\n",
       "      <td>3.613390e+09</td>\n",
       "    </tr>\n",
       "    <tr>\n",
       "      <th>50%</th>\n",
       "      <td>55104.500000</td>\n",
       "      <td>80.000000</td>\n",
       "      <td>6.054065e+09</td>\n",
       "    </tr>\n",
       "    <tr>\n",
       "      <th>75%</th>\n",
       "      <td>76125.250000</td>\n",
       "      <td>214.000000</td>\n",
       "      <td>8.015615e+09</td>\n",
       "    </tr>\n",
       "    <tr>\n",
       "      <th>max</th>\n",
       "      <td>99929.000000</td>\n",
       "      <td>2891.000000</td>\n",
       "      <td>9.898943e+09</td>\n",
       "    </tr>\n",
       "  </tbody>\n",
       "</table>\n",
       "</div>"
      ],
      "text/plain": [
       "               zip5         beds  phone_number\n",
       "count   5992.000000  5992.000000  5.992000e+03\n",
       "mean   53785.892857   162.129172  5.859922e+09\n",
       "std    26990.331200   210.167654  2.362392e+09\n",
       "min      603.000000     2.000000  9.369338e+08\n",
       "25%    32610.000000    26.000000  3.613390e+09\n",
       "50%    55104.500000    80.000000  6.054065e+09\n",
       "75%    76125.250000   214.000000  8.015615e+09\n",
       "max    99929.000000  2891.000000  9.898943e+09"
      ]
     },
     "execution_count": 16,
     "metadata": {},
     "output_type": "execute_result"
    }
   ],
   "source": [
    "df_hospital.describe()"
   ]
  }
 ],
 "metadata": {
  "kernelspec": {
   "display_name": "Python 3.10.6 ('myenv')",
   "language": "python",
   "name": "python3"
  },
  "language_info": {
   "codemirror_mode": {
    "name": "ipython",
    "version": 3
   },
   "file_extension": ".py",
   "mimetype": "text/x-python",
   "name": "python",
   "nbconvert_exporter": "python",
   "pygments_lexer": "ipython3",
   "version": "3.10.6"
  },
  "orig_nbformat": 4,
  "vscode": {
   "interpreter": {
    "hash": "02b21bdc91968af550a8dd8013155a5af7741c27842bddc96dd3a22f25d1f8dd"
   }
  }
 },
 "nbformat": 4,
 "nbformat_minor": 2
}
